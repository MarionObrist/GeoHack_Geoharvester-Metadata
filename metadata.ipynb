{
 "cells": [
  {
   "attachments": {},
   "cell_type": "markdown",
   "metadata": {},
   "source": [
    "## Pandas"
   ]
  },
  {
   "cell_type": "code",
   "execution_count": 8,
   "metadata": {},
   "outputs": [],
   "source": [
    "import pandas as pd #import Panda"
   ]
  },
  {
   "cell_type": "code",
   "execution_count": 1,
   "metadata": {},
   "outputs": [
    {
     "ename": "NameError",
     "evalue": "name 'pd' is not defined",
     "output_type": "error",
     "traceback": [
      "\u001b[1;31m---------------------------------------------------------------------------\u001b[0m",
      "\u001b[1;31mNameError\u001b[0m                                 Traceback (most recent call last)",
      "Cell \u001b[1;32mIn[1], line 1\u001b[0m\n\u001b[1;32m----> 1\u001b[0m metadata \u001b[39m=\u001b[39m pd\u001b[39m.\u001b[39mread_csv(\u001b[39m'\u001b[39m\u001b[39mC:/01_Daten_Marion/01_Privat/GeoHack2023/GeoHack2023/GeoHack_Geoharvester-Metadata/geoservices_CH.csv\u001b[39m\u001b[39m'\u001b[39m)\n",
      "\u001b[1;31mNameError\u001b[0m: name 'pd' is not defined"
     ]
    }
   ],
   "source": [
    "metadata = pd.read_csv('C:/01_Daten_Marion/01_Privat/GeoHack2023/GeoHack2023/GeoHack_Geoharvester-Metadata/geoservices_CH.csv')\n",
    "# csv-File importieren"
   ]
  },
  {
   "cell_type": "code",
   "execution_count": 3,
   "metadata": {},
   "outputs": [
    {
     "ename": "NameError",
     "evalue": "name 'metadata' is not defined",
     "output_type": "error",
     "traceback": [
      "\u001b[1;31m---------------------------------------------------------------------------\u001b[0m",
      "\u001b[1;31mNameError\u001b[0m                                 Traceback (most recent call last)",
      "Cell \u001b[1;32mIn[3], line 1\u001b[0m\n\u001b[1;32m----> 1\u001b[0m metadata\u001b[39m.\u001b[39mhead()\n",
      "\u001b[1;31mNameError\u001b[0m: name 'metadata' is not defined"
     ]
    }
   ],
   "source": [
    "metadata.head() # Zeigt die ersten 5 Zeilen des Files an"
   ]
  },
  {
   "cell_type": "code",
   "execution_count": 10,
   "metadata": {},
   "outputs": [
    {
     "ename": "NameError",
     "evalue": "name 'metadata' is not defined",
     "output_type": "error",
     "traceback": [
      "\u001b[1;31m---------------------------------------------------------------------------\u001b[0m",
      "\u001b[1;31mNameError\u001b[0m                                 Traceback (most recent call last)",
      "Cell \u001b[1;32mIn[10], line 1\u001b[0m\n\u001b[1;32m----> 1\u001b[0m metadata\n",
      "\u001b[1;31mNameError\u001b[0m: name 'metadata' is not defined"
     ]
    }
   ],
   "source": [
    "metadata"
   ]
  },
  {
   "cell_type": "code",
   "execution_count": null,
   "metadata": {},
   "outputs": [
    {
     "name": "stdout",
     "output_type": "stream",
     "text": [
      "OWNER          23348\n",
      "TITLE          23348\n",
      "NAME           23348\n",
      "MAPGEO         23348\n",
      "TREE           23348\n",
      "GROUP          10809\n",
      "ABSTRACT       15121\n",
      "KEYWORDS       14706\n",
      "LEGEND         16426\n",
      "CONTACT        18438\n",
      "SERVICELINK    23348\n",
      "METADATA       10548\n",
      "UPDATE           448\n",
      "SERVICETYPE    23348\n",
      "MAX_ZOOM       16123\n",
      "CENTER_LAT     23348\n",
      "CENTER_LON     23348\n",
      "BBOX           22723\n",
      "dtype: int64\n"
     ]
    }
   ],
   "source": [
    "print(metadata.count()) # Zählt alle Werte in den verschiedenen Splaten zusammen"
   ]
  },
  {
   "cell_type": "code",
   "execution_count": null,
   "metadata": {},
   "outputs": [
    {
     "data": {
      "text/plain": [
       "Index(['OWNER', 'TITLE', 'NAME', 'MAPGEO', 'TREE', 'GROUP', 'ABSTRACT',\n",
       "       'KEYWORDS', 'LEGEND', 'CONTACT', 'SERVICELINK', 'METADATA', 'UPDATE',\n",
       "       'SERVICETYPE', 'MAX_ZOOM', 'CENTER_LAT', 'CENTER_LON', 'BBOX'],\n",
       "      dtype='object')"
      ]
     },
     "execution_count": 7,
     "metadata": {},
     "output_type": "execute_result"
    }
   ],
   "source": [
    "metadata.columns # Gibt eine Liste der Spaltennamen aus"
   ]
  },
  {
   "cell_type": "code",
   "execution_count": 4,
   "metadata": {},
   "outputs": [],
   "source": [
    "req_cols = ['OWNER','KEYWORDS'] # Liste mit zwei Werten"
   ]
  },
  {
   "attachments": {},
   "cell_type": "markdown",
   "metadata": {},
   "source": [
    "## Input mit Pyton (split)"
   ]
  },
  {
   "cell_type": "code",
   "execution_count": null,
   "metadata": {},
   "outputs": [],
   "source": [
    "l=['flkfjgkcv.oituiovk.lsjdvioepirtorie.fljlfjvd.water_geijgoe','fldf.dougod.gouioo.fdgouoifug.grass']\n",
    "\n"
   ]
  },
  {
   "cell_type": "code",
   "execution_count": null,
   "metadata": {},
   "outputs": [
    {
     "data": {
      "text/plain": [
       "'water_geijgoe'"
      ]
     },
     "execution_count": 10,
     "metadata": {},
     "output_type": "execute_result"
    }
   ],
   "source": [
    "l[0].split('.')[-1]"
   ]
  },
  {
   "cell_type": "code",
   "execution_count": null,
   "metadata": {},
   "outputs": [
    {
     "data": {
      "text/plain": [
       "['water_geijgoe', 'grass']"
      ]
     },
     "execution_count": 11,
     "metadata": {},
     "output_type": "execute_result"
    }
   ],
   "source": [
    "n=[x.split('.')[-1] for x in l]\n",
    "n"
   ]
  },
  {
   "cell_type": "code",
   "execution_count": null,
   "metadata": {},
   "outputs": [
    {
     "data": {
      "text/plain": [
       "['water_geijgoe']"
      ]
     },
     "execution_count": 12,
     "metadata": {},
     "output_type": "execute_result"
    }
   ],
   "source": [
    "[x for x in n if \"water\" in x]"
   ]
  },
  {
   "attachments": {},
   "cell_type": "markdown",
   "metadata": {},
   "source": [
    "## Abfragen mit Pandas"
   ]
  },
  {
   "cell_type": "code",
   "execution_count": null,
   "metadata": {},
   "outputs": [
    {
     "ename": "IndexError",
     "evalue": "only integers, slices (`:`), ellipsis (`...`), numpy.newaxis (`None`) and integer or boolean arrays are valid indices",
     "output_type": "error",
     "traceback": [
      "\u001b[1;31m---------------------------------------------------------------------------\u001b[0m",
      "\u001b[1;31mIndexError\u001b[0m                                Traceback (most recent call last)",
      "Cell \u001b[1;32mIn[15], line 1\u001b[0m\n\u001b[1;32m----> 1\u001b[0m owner\u001b[39m=\u001b[39m pd\u001b[39m.\u001b[39mDataFrame(\u001b[39mzip\u001b[39m(metadata\u001b[39m.\u001b[39;49mcolumns[\u001b[39m'\u001b[39;49m\u001b[39mOWNER\u001b[39;49m\u001b[39m'\u001b[39;49m]\u001b[39m.\u001b[39mvalue_counts()\u001b[39m.\u001b[39mindex,metadata[\u001b[39m'\u001b[39m\u001b[39mOWNER\u001b[39m\u001b[39m'\u001b[39m]\u001b[39m.\u001b[39mvalue_counts()))\n\u001b[0;32m      2\u001b[0m owner \u001b[39m=\u001b[39m owner\u001b[39m.\u001b[39mset_index(\u001b[39m0\u001b[39m)\n",
      "File \u001b[1;32mc:\\Users\\mario\\anaconda3\\envs\\geopython38\\lib\\site-packages\\pandas\\core\\indexes\\base.py:5339\u001b[0m, in \u001b[0;36mIndex.__getitem__\u001b[1;34m(self, key)\u001b[0m\n\u001b[0;32m   5336\u001b[0m     \u001b[39melse\u001b[39;00m:\n\u001b[0;32m   5337\u001b[0m         key \u001b[39m=\u001b[39m np\u001b[39m.\u001b[39masarray(key, dtype\u001b[39m=\u001b[39m\u001b[39mbool\u001b[39m)\n\u001b[1;32m-> 5339\u001b[0m result \u001b[39m=\u001b[39m getitem(key)\n\u001b[0;32m   5340\u001b[0m \u001b[39m# Because we ruled out integer above, we always get an arraylike here\u001b[39;00m\n\u001b[0;32m   5341\u001b[0m \u001b[39mif\u001b[39;00m result\u001b[39m.\u001b[39mndim \u001b[39m>\u001b[39m \u001b[39m1\u001b[39m:\n",
      "\u001b[1;31mIndexError\u001b[0m: only integers, slices (`:`), ellipsis (`...`), numpy.newaxis (`None`) and integer or boolean arrays are valid indices"
     ]
    }
   ],
   "source": [
    "owner= pd.DataFrame(zip(metadata.columns['OWNER'].value_counts().index,metadata['OWNER'].value_counts()))\n",
    "owner = owner.set_index(0)\n",
    "\n",
    "# geht nicht!!!\n"
   ]
  },
  {
   "cell_type": "code",
   "execution_count": null,
   "metadata": {},
   "outputs": [
    {
     "data": {
      "text/plain": [
       "<AxesSubplot: xlabel='0'>"
      ]
     },
     "execution_count": 81,
     "metadata": {},
     "output_type": "execute_result"
    },
    {
     "data": {
      "image/png": "[encoded data removed]",
      "text/plain": [
       "<Figure size 640x480 with 1 Axes>"
      ]
     },
     "metadata": {},
     "output_type": "display_data"
    }
   ],
   "source": [
    "owner.plot.bar()\n",
    "# gibt einen BarPlot aus"
   ]
  },
  {
   "cell_type": "code",
   "execution_count": 11,
   "metadata": {},
   "outputs": [
    {
     "ename": "NameError",
     "evalue": "name 'metadata' is not defined",
     "output_type": "error",
     "traceback": [
      "\u001b[1;31m---------------------------------------------------------------------------\u001b[0m",
      "\u001b[1;31mNameError\u001b[0m                                 Traceback (most recent call last)",
      "Cell \u001b[1;32mIn[11], line 1\u001b[0m\n\u001b[1;32m----> 1\u001b[0m title \u001b[39m=\u001b[39m pd\u001b[39m.\u001b[39mDataFrame(metadata[\u001b[39m'\u001b[39m\u001b[39mTITLE\u001b[39m\u001b[39m'\u001b[39m]\u001b[39m.\u001b[39mvalue_counts(),columns\u001b[39m=\u001b[39m[\u001b[39m'\u001b[39m\u001b[39mTITLE\u001b[39m\u001b[39m'\u001b[39m])\n\u001b[0;32m      2\u001b[0m title\n",
      "\u001b[1;31mNameError\u001b[0m: name 'metadata' is not defined"
     ]
    }
   ],
   "source": [
    "title = pd.DataFrame(metadata['TITLE'].value_counts(),columns=['TITLE'])\n",
    "title\n",
    "# gibt die Spalte TITLE als DataFrame aus"
   ]
  },
  {
   "cell_type": "code",
   "execution_count": null,
   "metadata": {},
   "outputs": [
    {
     "data": {
      "text/plain": [
       "8642"
      ]
     },
     "execution_count": 33,
     "metadata": {},
     "output_type": "execute_result"
    }
   ],
   "source": [
    "metadata['KEYWORDS'].isnull().sum()"
   ]
  },
  {
   "cell_type": "code",
   "execution_count": null,
   "metadata": {},
   "outputs": [
    {
     "data": {
      "text/plain": [
       "792"
      ]
     },
     "execution_count": 48,
     "metadata": {},
     "output_type": "execute_result"
    }
   ],
   "source": [
    "a = metadata['KEYWORDS'] == '[]'\n",
    "a.sum()\n"
   ]
  },
  {
   "cell_type": "code",
   "execution_count": null,
   "metadata": {},
   "outputs": [
    {
     "data": {
      "text/plain": [
       "14706"
      ]
     },
     "execution_count": 51,
     "metadata": {},
     "output_type": "execute_result"
    }
   ],
   "source": [
    "metadata['KEYWORDS'].count()\n"
   ]
  },
  {
   "cell_type": "code",
   "execution_count": null,
   "metadata": {},
   "outputs": [
    {
     "data": {
      "text/plain": [
       "KT_BS         2980\n",
       "KT_JU         2333\n",
       "KT_GR         1933\n",
       "KT_ZH         1855\n",
       "Bund          1807\n",
       "KT_SZ         1448\n",
       "KT_ZG         1446\n",
       "KT_BL         1265\n",
       "KT_TG         1170\n",
       "KT_TI          860\n",
       "KT_BE          852\n",
       "KT_SO          852\n",
       "KT_FR          739\n",
       "KT_SG          656\n",
       "Geodienste     544\n",
       "KT_UR          448\n",
       "KT_AR          414\n",
       "KT_AI          378\n",
       "KT_AG          361\n",
       "KT_SH          358\n",
       "KT_VD          347\n",
       "KT_GE          182\n",
       "FL_LI           85\n",
       "KT_NE           35\n",
       "Name: OWNER, dtype: int64"
      ]
     },
     "execution_count": 54,
     "metadata": {},
     "output_type": "execute_result"
    }
   ],
   "source": [
    "metadata['OWNER'].value_counts()"
   ]
  },
  {
   "cell_type": "markdown",
   "metadata": {},
   "source": []
  },
  {
   "cell_type": "code",
   "execution_count": null,
   "metadata": {},
   "outputs": [
    {
     "data": {
      "text/plain": [
       "15121"
      ]
     },
     "execution_count": 55,
     "metadata": {},
     "output_type": "execute_result"
    }
   ],
   "source": [
    "metadata['ABSTRACT'].count()"
   ]
  },
  {
   "cell_type": "code",
   "execution_count": null,
   "metadata": {},
   "outputs": [
    {
     "data": {
      "text/plain": [
       "Die Nutzung des Dienstes setzt das Akzeptieren der Nutzungsbedingungen voraus; siehe https://www.geo.bs.ch/agb                                                                                                                                                    2904\n",
       "None Geodienst des GIS-ZH                                                                                                                                                                                                                                         1095\n",
       "WMS-Datendienste aus dem Geoportal SZ. Mail: geoportal@sz.ch / Tel. 041/819 25 25. Weitere Infos unter: www.sz.ch/geodienste resp. www.sz.ch/webgisnews                                                                                                            388\n",
       "Der eigentümerverbindliche Zonenplan regelt die Nutzungsart und die Nutzungsintensität sämtlicher Grundstücke im Kanton. Rechtsverbindlich sind die Originalzonenpläne im Massstab 1:5'000.                                                                        240\n",
       "Link zu Metadaten: https://www.geocat.ch/geonetwork/srv/ger/md.viewer#/full_view/a7b71b56-8414-4418-95b1-11959d5e54cb                                                                                                                                              233\n",
       "                                                                                                                                                                                                                                                                  ... \n",
       "Atto pianificatorio: Breggia-Caneggio - Piano grafico: Piano traffico e EAP; Atto pianificatorio conforme all'ultima decisione del 2022-05-23 Atto pianificatorio: Breggia-Caneggio; Atto pianificatorio conforme all'ultima decisione del 2022-05-23                1\n",
       "Atto pianificatorio: Morcote - Piano grafico: Piano zone e AP-EP; Atto pianificatorio conforme all'ultima decisione del 2022-11-30 Atto pianificatorio: Morcote; Atto pianificatorio conforme all'ultima decisione del 2022-11-30                                    1\n",
       "Atto pianificatorio: Morcote - Piano grafico: Piano paesaggio; Atto pianificatorio conforme all'ultima decisione del 2022-11-30 Atto pianificatorio: Morcote; Atto pianificatorio conforme all'ultima decisione del 2022-11-30                                       1\n",
       "Atto pianificatorio: Morcote - Piano grafico: Piano traffico; Atto pianificatorio conforme all'ultima decisione del 2022-11-30 Atto pianificatorio: Morcote; Atto pianificatorio conforme all'ultima decisione del 2022-11-30                                        1\n",
       "Atto pianificatorio: Bellinzona-Gorduno - Piano grafico: Piano edificazione nucleo; Atto pianificatorio conforme all'ultima decisione del 2022-06-22 Atto pianificatorio: Bellinzona-Gorduno; Atto pianificatorio conforme all'ultima decisione del 2022-06-22       1\n",
       "Name: ABSTRACT, Length: 5301, dtype: int64"
      ]
     },
     "execution_count": 56,
     "metadata": {},
     "output_type": "execute_result"
    }
   ],
   "source": [
    "metadata['ABSTRACT'].value_counts()"
   ]
  },
  {
   "cell_type": "code",
   "execution_count": null,
   "metadata": {},
   "outputs": [
    {
     "data": {
      "text/plain": [
       "n.a.                                                                                                                                                                                                                                                                                                  7225\n",
       "https://test.map.geo.admin.ch/?bgLayer=ch.swisstopo.pixelkarte-grau&layers=WMS||Produktionsstätte||https://ows.geo.tg.ch/geofy_access_proxy/landwirtschaft_kulturflaechen?||produktionsstaette||1.1.1&swisssearch=47.528000000000006%209.06681&zoom=7                                                    6\n",
       "https://test.map.geo.admin.ch/?bgLayer=ch.swisstopo.pixelkarte-grau&layers=WMS||Landschaftsqualität Vertragsobjekt Linie||https://ows.geo.tg.ch/geofy_access_proxy/landwirtschaft_kulturflaechen?||vertragsobjekte_linien||1.1.1&swisssearch=47.528000000000006%209.06681&zoom=7                         6\n",
       "https://test.map.geo.admin.ch/?bgLayer=ch.swisstopo.pixelkarte-grau&layers=WMS||Nutzungsflächen (BFF QI Fläche TG)||https://ows.geo.tg.ch/geofy_access_proxy/landwirtschaft_kulturflaechen?||nutzungsflaechen_flaechen_tg||1.1.1&swisssearch=47.528000000000006%209.06681&zoom=7                         6\n",
       "https://test.map.geo.admin.ch/?bgLayer=ch.swisstopo.pixelkarte-grau&layers=WMS||Biodiversitätsförderflächen Qualitätsstufe II (Flächen)||https://ows.geo.tg.ch/geofy_access_proxy/landwirtschaft_kulturflaechen?||bff_qualitaet_ii_flaechen||1.1.1&swisssearch=47.528000000000006%209.06681&zoom=7       6\n",
       "                                                                                                                                                                                                                                                                                                      ... \n",
       "https://test.map.geo.admin.ch/?bgLayer=ch.swisstopo.pixelkarte-grau&layers=WMS||Text_Zoombereich_unten||https://wms.geo.gr.ch/tektonische_karten?||Text_Zoombereich_unten||1.1.1&swisssearch=46.6449%209.581635&zoom=7                                                                                   1\n",
       "https://test.map.geo.admin.ch/?bgLayer=ch.swisstopo.pixelkarte-grau&layers=WMS||Tektonische_Karte_500||https://wms.geo.gr.ch/tektonische_karten?||Tektonische_Karte_500||1.1.1&swisssearch=46.6449%209.581635&zoom=7                                                                                     1\n",
       "https://test.map.geo.admin.ch/?bgLayer=ch.swisstopo.pixelkarte-grau&layers=WMS||Tektonik_zu_GSPK||https://wms.geo.gr.ch/tektonische_karten?||Tektonik_zu_GSPK||1.1.1&swisssearch=46.6449%209.581635&zoom=7                                                                                               1\n",
       "https://test.map.geo.admin.ch/?bgLayer=ch.swisstopo.pixelkarte-grau&layers=WMS||Tektonik_zu_GK25||https://wms.geo.gr.ch/tektonische_karten?||Tektonik_zu_GK25||1.1.1&swisssearch=46.6449%209.581635&zoom=7                                                                                               1\n",
       "https://test.map.geo.admin.ch/?bgLayer=ch.swisstopo.pixelkarte-grau&layers=WMS||Koordinatennetz WGS84 - org.epsg.grid_4326_13||https://wms.geo.admin.ch/??||org.epsg.grid_4326_13||1.1.1                                                                                                                 1\n",
       "Name: MAPGEO, Length: 15854, dtype: int64"
      ]
     },
     "execution_count": 57,
     "metadata": {},
     "output_type": "execute_result"
    }
   ],
   "source": [
    "metadata['MAPGEO'].value_counts()"
   ]
  },
  {
   "cell_type": "code",
   "execution_count": null,
   "metadata": {},
   "outputs": [
    {
     "data": {
      "text/plain": [
       "0        False\n",
       "1        False\n",
       "2        False\n",
       "3        False\n",
       "4        False\n",
       "         ...  \n",
       "23343    False\n",
       "23344    False\n",
       "23345    False\n",
       "23346    False\n",
       "23347    False\n",
       "Name: MAPGEO, Length: 23348, dtype: bool"
      ]
     },
     "execution_count": 59,
     "metadata": {},
     "output_type": "execute_result"
    }
   ],
   "source": [
    "metadata['MAPGEO'].isnull()"
   ]
  },
  {
   "cell_type": "code",
   "execution_count": null,
   "metadata": {},
   "outputs": [
    {
     "data": {
      "text/plain": [
       "12539"
      ]
     },
     "execution_count": 61,
     "metadata": {},
     "output_type": "execute_result"
    }
   ],
   "source": [
    "metadata['GROUP'].isnull().sum()"
   ]
  },
  {
   "cell_type": "code",
   "execution_count": null,
   "metadata": {},
   "outputs": [
    {
     "data": {
      "text/plain": [
       "10809"
      ]
     },
     "execution_count": 62,
     "metadata": {},
     "output_type": "execute_result"
    }
   ],
   "source": [
    "metadata['GROUP'].count()"
   ]
  },
  {
   "cell_type": "code",
   "execution_count": null,
   "metadata": {},
   "outputs": [
    {
     "data": {
      "text/plain": [
       "Geoportail Jura                  842\n",
       "schwyz                           776\n",
       "WMS-BGDI                         707\n",
       "OpenWMS_BL                       521\n",
       "ch.geoportal.ktar                414\n",
       "                                ... \n",
       "ch_ag_geo_kai_industriekbaden      1\n",
       "ch_ag_geo_kai_kunsteisbahnen       1\n",
       "ch_ag_geo_kai_michaprof            1\n",
       "ch_ag_geo_kai_notfpkt              1\n",
       "ch_ag_geo_atb_vkreisel             1\n",
       "Name: GROUP, Length: 946, dtype: int64"
      ]
     },
     "execution_count": 63,
     "metadata": {},
     "output_type": "execute_result"
    }
   ],
   "source": [
    "metadata['GROUP'].value_counts()"
   ]
  },
  {
   "cell_type": "code",
   "execution_count": null,
   "metadata": {},
   "outputs": [
    {
     "data": {
      "text/plain": [
       "OGC:WMS     10750\n",
       "WMS          5434\n",
       "WFS          2906\n",
       "OGC WFS      1959\n",
       "OGC:WFS      1552\n",
       "OGC WMTS      707\n",
       "OGC:WMTS       33\n",
       "WMTS            7\n",
       "Name: SERVICETYPE, dtype: int64"
      ]
     },
     "execution_count": 64,
     "metadata": {},
     "output_type": "execute_result"
    }
   ],
   "source": [
    "metadata['SERVICETYPE'].value_counts()"
   ]
  },
  {
   "cell_type": "code",
   "execution_count": 5,
   "metadata": {},
   "outputs": [
    {
     "ename": "NameError",
     "evalue": "name 'metadata' is not defined",
     "output_type": "error",
     "traceback": [
      "\u001b[1;31m---------------------------------------------------------------------------\u001b[0m",
      "\u001b[1;31mNameError\u001b[0m                                 Traceback (most recent call last)",
      "Cell \u001b[1;32mIn[5], line 1\u001b[0m\n\u001b[1;32m----> 1\u001b[0m metadata[\u001b[39m'\u001b[39m\u001b[39mSERVICETYPE\u001b[39m\u001b[39m'\u001b[39m]\u001b[39m.\u001b[39misnull()\u001b[39m.\u001b[39msum()\n",
      "\u001b[1;31mNameError\u001b[0m: name 'metadata' is not defined"
     ]
    }
   ],
   "source": [
    "metadata['SERVICETYPE'].isnull().sum()"
   ]
  },
  {
   "cell_type": "code",
   "execution_count": null,
   "metadata": {},
   "outputs": [],
   "source": [
    "metadata['NAME']"
   ]
  }
 ],
 "metadata": {
  "kernelspec": {
   "display_name": "geopython38",
   "language": "python",
   "name": "python3"
  },
  "language_info": {
   "codemirror_mode": {
    "name": "ipython",
    "version": 3
   },
   "file_extension": ".py",
   "mimetype": "text/x-python",
   "name": "python",
   "nbconvert_exporter": "python",
   "pygments_lexer": "ipython3",
   "version": "3.8.16"
  },
  "orig_nbformat": 4
 },
 "nbformat": 4,
 "nbformat_minor": 2
}
